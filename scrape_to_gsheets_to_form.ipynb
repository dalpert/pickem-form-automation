{
 "cells": [
  {
   "cell_type": "markdown",
   "metadata": {},
   "source": [
    "# Scraper"
   ]
  },
  {
   "cell_type": "code",
   "execution_count": 14,
   "metadata": {},
   "outputs": [],
   "source": [
    "# Libraries\n",
    "from bs4 import BeautifulSoup, Comment\n",
    "import numpy as np\n",
    "import pandas as pd\n",
    "import urllib.request\n",
    "import requests"
   ]
  },
  {
   "cell_type": "markdown",
   "metadata": {},
   "source": [
    "## Helper Functions"
   ]
  },
  {
   "cell_type": "code",
   "execution_count": 15,
   "metadata": {},
   "outputs": [],
   "source": [
    "# gets weekday of game give html div\n",
    "def get_day(wk_day_span):\n",
    "    wk_day_txt = wk_day_span.text.strip()\n",
    "    date_components = wk_day_txt.split(' ')\n",
    "    return(date_components[0])"
   ]
  },
  {
   "cell_type": "code",
   "execution_count": 16,
   "metadata": {},
   "outputs": [],
   "source": [
    "# gets opposite of home line formatted correctly\n",
    "def get_away_line(home_line):\n",
    "    home_line = int(home_line) if float(home_line).is_integer() else float(home_line)\n",
    "    if home_line < 0:\n",
    "        return(\"{0:+}\".format(home_line * -1))\n",
    "    elif home_line > 0:\n",
    "        return(\"{0:-}\".format(home_line * -1))\n",
    "    return('0')"
   ]
  },
  {
   "cell_type": "markdown",
   "metadata": {},
   "source": [
    "## Test Code: Scraper"
   ]
  },
  {
   "cell_type": "code",
   "execution_count": 17,
   "metadata": {},
   "outputs": [
    {
     "name": "stdout",
     "output_type": "stream",
     "text": [
      "['Bengals', 'CIN', 'Jaguars', 'JAC', '-7.5', 7.5, '45.5', 'THU', '4']\n"
     ]
    }
   ],
   "source": [
    "link = 'https://www.cbssports.com/nfl/scoreboard/all/2021/regular/' + str(4) + '/'\n",
    "with urllib.request.urlopen(link) as url:\n",
    "    page = url.read()\n",
    "soup = BeautifulSoup(page, \"html.parser\")\n",
    "# list of game info boxes for all games\n",
    "score_boxes = soup.find_all('div', {'class':'live-update'})\n",
    "score_box = score_boxes[0]\n",
    "odds = score_box.find_all('td', {'class': 'in-progress-odds'})\n",
    "over_under = odds[0].text.strip()[1:]\n",
    "home_line = str(odds[1].text.strip())\n",
    "away_line = float(home_line) * -1\n",
    "teams = score_box.find_all('td', {'class': 'team'})\n",
    "wk_day_span = score_box.find('span', {'class': 'game-status'})\n",
    "#print(wk_day_span)\n",
    "wk_day = get_day(wk_day_span)\n",
    "#print(teams)\n",
    "away_team = teams[0]\n",
    "home_team = teams[1]\n",
    "away_team_name = away_team.find_all('a')[1].text\n",
    "away_team_abbr = away_team.find('a')['href'].split('/')[5]\n",
    "home_team_name = home_team.find_all('a')[1].text\n",
    "home_team_abbr = home_team.find('a')['href'].split('/')[5]\n",
    "game_info_array = [home_team_name, home_team_abbr, away_team_name, away_team_abbr,\n",
    "                 home_line, away_line, over_under, wk_day, str(4)]\n",
    "print(game_info_array)"
   ]
  },
  {
   "cell_type": "markdown",
   "metadata": {},
   "source": [
    "## Scraping Functions"
   ]
  },
  {
   "cell_type": "code",
   "execution_count": 18,
   "metadata": {},
   "outputs": [],
   "source": [
    "def get_game_info(score_box):\n",
    "    odds = score_box.find_all('td', {'class': 'in-progress-odds'})\n",
    "    over_under = odds[0].text.strip()[1:]\n",
    "    home_line = odds[1].text.strip()\n",
    "    away_line = get_away_line(home_line)\n",
    "    teams = score_box.find_all('td', {'class': 'team'})\n",
    "    wk_day_span = score_box.find('span', {'class': 'game-status'})\n",
    "    wk_day = get_day(wk_day_span)\n",
    "    away_team = teams[0]\n",
    "    home_team = teams[1]\n",
    "    away_team_name = away_team.find_all('a')[1].text\n",
    "    away_team_abbr = away_team.find('a')['href'].split('/')[5]\n",
    "    home_team_name = home_team.find_all('a')[1].text\n",
    "    home_team_abbr = home_team.find('a')['href'].split('/')[5]\n",
    "    game_info_array = [home_team_name, home_team_abbr, away_team_name, away_team_abbr,\n",
    "                     home_line, away_line, over_under, wk_day]\n",
    "    return(game_info_array)"
   ]
  },
  {
   "cell_type": "code",
   "execution_count": 19,
   "metadata": {},
   "outputs": [],
   "source": [
    "def get_game_info_df(week_num):\n",
    "    link = 'https://www.cbssports.com/nfl/scoreboard/all/2021/regular/' + str(week_num) + '/'\n",
    "    with urllib.request.urlopen(link) as url:\n",
    "        page = url.read()\n",
    "    soup = BeautifulSoup(page, \"html.parser\")\n",
    "    # list of game info boxes for all games\n",
    "    score_boxes = soup.find_all('div', {'class':'live-update'})\n",
    "    #game_info_list = np.array([])\n",
    "    game_info_matrix = []\n",
    "    for score_box in score_boxes:\n",
    "        #print(score_box)\n",
    "        game_info_matrix.append(get_game_info(score_box))\n",
    "    cols = ['home_team_name', 'home_team_abbr', 'away_team_name', \n",
    "        'away_team_abbr', 'home_line', 'away_line', \n",
    "        'over_under', 'wk_day']\n",
    "    game_info_df = pd.DataFrame(game_info_matrix, columns=cols)\n",
    "    game_info_df['wk_num'] = str(week_num)\n",
    "    return(game_info_df)"
   ]
  },
  {
   "cell_type": "markdown",
   "metadata": {},
   "source": [
    "## Run Scraper"
   ]
  },
  {
   "cell_type": "code",
   "execution_count": 20,
   "metadata": {},
   "outputs": [
    {
     "data": {
      "text/html": [
       "<div>\n",
       "<style scoped>\n",
       "    .dataframe tbody tr th:only-of-type {\n",
       "        vertical-align: middle;\n",
       "    }\n",
       "\n",
       "    .dataframe tbody tr th {\n",
       "        vertical-align: top;\n",
       "    }\n",
       "\n",
       "    .dataframe thead th {\n",
       "        text-align: right;\n",
       "    }\n",
       "</style>\n",
       "<table border=\"1\" class=\"dataframe\">\n",
       "  <thead>\n",
       "    <tr style=\"text-align: right;\">\n",
       "      <th></th>\n",
       "      <th>home_team_name</th>\n",
       "      <th>home_team_abbr</th>\n",
       "      <th>away_team_name</th>\n",
       "      <th>away_team_abbr</th>\n",
       "      <th>home_line</th>\n",
       "      <th>away_line</th>\n",
       "      <th>over_under</th>\n",
       "      <th>wk_day</th>\n",
       "      <th>wk_num</th>\n",
       "    </tr>\n",
       "  </thead>\n",
       "  <tbody>\n",
       "    <tr>\n",
       "      <th>0</th>\n",
       "      <td>Bengals</td>\n",
       "      <td>CIN</td>\n",
       "      <td>Jaguars</td>\n",
       "      <td>JAC</td>\n",
       "      <td>-7.5</td>\n",
       "      <td>+7.5</td>\n",
       "      <td>45.5</td>\n",
       "      <td>THU</td>\n",
       "      <td>4</td>\n",
       "    </tr>\n",
       "    <tr>\n",
       "      <th>1</th>\n",
       "      <td>Cowboys</td>\n",
       "      <td>DAL</td>\n",
       "      <td>Panthers</td>\n",
       "      <td>CAR</td>\n",
       "      <td>-4</td>\n",
       "      <td>+4</td>\n",
       "      <td>50</td>\n",
       "      <td>SUN</td>\n",
       "      <td>4</td>\n",
       "    </tr>\n",
       "    <tr>\n",
       "      <th>2</th>\n",
       "      <td>Vikings</td>\n",
       "      <td>MIN</td>\n",
       "      <td>Browns</td>\n",
       "      <td>CLE</td>\n",
       "      <td>+2</td>\n",
       "      <td>-2</td>\n",
       "      <td>53</td>\n",
       "      <td>SUN</td>\n",
       "      <td>4</td>\n",
       "    </tr>\n",
       "    <tr>\n",
       "      <th>3</th>\n",
       "      <td>Bears</td>\n",
       "      <td>CHI</td>\n",
       "      <td>Lions</td>\n",
       "      <td>DET</td>\n",
       "      <td>-3</td>\n",
       "      <td>+3</td>\n",
       "      <td>42.5</td>\n",
       "      <td>SUN</td>\n",
       "      <td>4</td>\n",
       "    </tr>\n",
       "    <tr>\n",
       "      <th>4</th>\n",
       "      <td>Bills</td>\n",
       "      <td>BUF</td>\n",
       "      <td>Texans</td>\n",
       "      <td>HOU</td>\n",
       "      <td>-16.5</td>\n",
       "      <td>+16.5</td>\n",
       "      <td>48</td>\n",
       "      <td>SUN</td>\n",
       "      <td>4</td>\n",
       "    </tr>\n",
       "    <tr>\n",
       "      <th>5</th>\n",
       "      <td>Dolphins</td>\n",
       "      <td>MIA</td>\n",
       "      <td>Colts</td>\n",
       "      <td>IND</td>\n",
       "      <td>-1.5</td>\n",
       "      <td>+1.5</td>\n",
       "      <td>43</td>\n",
       "      <td>SUN</td>\n",
       "      <td>4</td>\n",
       "    </tr>\n",
       "    <tr>\n",
       "      <th>6</th>\n",
       "      <td>Eagles</td>\n",
       "      <td>PHI</td>\n",
       "      <td>Chiefs</td>\n",
       "      <td>KC</td>\n",
       "      <td>+6.5</td>\n",
       "      <td>-6.5</td>\n",
       "      <td>55</td>\n",
       "      <td>SUN</td>\n",
       "      <td>4</td>\n",
       "    </tr>\n",
       "    <tr>\n",
       "      <th>7</th>\n",
       "      <td>Saints</td>\n",
       "      <td>NO</td>\n",
       "      <td>Giants</td>\n",
       "      <td>NYG</td>\n",
       "      <td>-7.5</td>\n",
       "      <td>+7.5</td>\n",
       "      <td>43.5</td>\n",
       "      <td>SUN</td>\n",
       "      <td>4</td>\n",
       "    </tr>\n",
       "    <tr>\n",
       "      <th>8</th>\n",
       "      <td>Jets</td>\n",
       "      <td>NYJ</td>\n",
       "      <td>Titans</td>\n",
       "      <td>TEN</td>\n",
       "      <td>+7.5</td>\n",
       "      <td>-7.5</td>\n",
       "      <td>46</td>\n",
       "      <td>SUN</td>\n",
       "      <td>4</td>\n",
       "    </tr>\n",
       "    <tr>\n",
       "      <th>9</th>\n",
       "      <td>Falcons</td>\n",
       "      <td>ATL</td>\n",
       "      <td>Football Team</td>\n",
       "      <td>WAS</td>\n",
       "      <td>+1.5</td>\n",
       "      <td>-1.5</td>\n",
       "      <td>48</td>\n",
       "      <td>SUN</td>\n",
       "      <td>4</td>\n",
       "    </tr>\n",
       "    <tr>\n",
       "      <th>10</th>\n",
       "      <td>Rams</td>\n",
       "      <td>LAR</td>\n",
       "      <td>Cardinals</td>\n",
       "      <td>ARI</td>\n",
       "      <td>-6</td>\n",
       "      <td>+6</td>\n",
       "      <td>54.5</td>\n",
       "      <td>SUN</td>\n",
       "      <td>4</td>\n",
       "    </tr>\n",
       "    <tr>\n",
       "      <th>11</th>\n",
       "      <td>49ers</td>\n",
       "      <td>SF</td>\n",
       "      <td>Seahawks</td>\n",
       "      <td>SEA</td>\n",
       "      <td>-3</td>\n",
       "      <td>+3</td>\n",
       "      <td>52</td>\n",
       "      <td>SUN</td>\n",
       "      <td>4</td>\n",
       "    </tr>\n",
       "    <tr>\n",
       "      <th>12</th>\n",
       "      <td>Broncos</td>\n",
       "      <td>DEN</td>\n",
       "      <td>Ravens</td>\n",
       "      <td>BAL</td>\n",
       "      <td>-1</td>\n",
       "      <td>+1</td>\n",
       "      <td>44</td>\n",
       "      <td>SUN</td>\n",
       "      <td>4</td>\n",
       "    </tr>\n",
       "    <tr>\n",
       "      <th>13</th>\n",
       "      <td>Packers</td>\n",
       "      <td>GB</td>\n",
       "      <td>Steelers</td>\n",
       "      <td>PIT</td>\n",
       "      <td>-6.5</td>\n",
       "      <td>+6.5</td>\n",
       "      <td>45.5</td>\n",
       "      <td>SUN</td>\n",
       "      <td>4</td>\n",
       "    </tr>\n",
       "    <tr>\n",
       "      <th>14</th>\n",
       "      <td>Patriots</td>\n",
       "      <td>NE</td>\n",
       "      <td>Buccaneers</td>\n",
       "      <td>TB</td>\n",
       "      <td>+6.5</td>\n",
       "      <td>-6.5</td>\n",
       "      <td>49</td>\n",
       "      <td>SUN</td>\n",
       "      <td>4</td>\n",
       "    </tr>\n",
       "    <tr>\n",
       "      <th>15</th>\n",
       "      <td>Chargers</td>\n",
       "      <td>LAC</td>\n",
       "      <td>Raiders</td>\n",
       "      <td>LV</td>\n",
       "      <td>-3.5</td>\n",
       "      <td>+3.5</td>\n",
       "      <td>52.5</td>\n",
       "      <td>MON</td>\n",
       "      <td>4</td>\n",
       "    </tr>\n",
       "  </tbody>\n",
       "</table>\n",
       "</div>"
      ],
      "text/plain": [
       "   home_team_name home_team_abbr away_team_name away_team_abbr home_line  \\\n",
       "0         Bengals            CIN        Jaguars            JAC      -7.5   \n",
       "1         Cowboys            DAL       Panthers            CAR        -4   \n",
       "2         Vikings            MIN         Browns            CLE        +2   \n",
       "3           Bears            CHI          Lions            DET        -3   \n",
       "4           Bills            BUF         Texans            HOU     -16.5   \n",
       "5        Dolphins            MIA          Colts            IND      -1.5   \n",
       "6          Eagles            PHI         Chiefs             KC      +6.5   \n",
       "7          Saints             NO         Giants            NYG      -7.5   \n",
       "8            Jets            NYJ         Titans            TEN      +7.5   \n",
       "9         Falcons            ATL  Football Team            WAS      +1.5   \n",
       "10           Rams            LAR      Cardinals            ARI        -6   \n",
       "11          49ers             SF       Seahawks            SEA        -3   \n",
       "12        Broncos            DEN         Ravens            BAL        -1   \n",
       "13        Packers             GB       Steelers            PIT      -6.5   \n",
       "14       Patriots             NE     Buccaneers             TB      +6.5   \n",
       "15       Chargers            LAC        Raiders             LV      -3.5   \n",
       "\n",
       "   away_line over_under wk_day wk_num  \n",
       "0       +7.5       45.5    THU      4  \n",
       "1         +4         50    SUN      4  \n",
       "2         -2         53    SUN      4  \n",
       "3         +3       42.5    SUN      4  \n",
       "4      +16.5         48    SUN      4  \n",
       "5       +1.5         43    SUN      4  \n",
       "6       -6.5         55    SUN      4  \n",
       "7       +7.5       43.5    SUN      4  \n",
       "8       -7.5         46    SUN      4  \n",
       "9       -1.5         48    SUN      4  \n",
       "10        +6       54.5    SUN      4  \n",
       "11        +3         52    SUN      4  \n",
       "12        +1         44    SUN      4  \n",
       "13      +6.5       45.5    SUN      4  \n",
       "14      -6.5         49    SUN      4  \n",
       "15      +3.5       52.5    MON      4  "
      ]
     },
     "execution_count": 20,
     "metadata": {},
     "output_type": "execute_result"
    }
   ],
   "source": [
    "week_num = 4\n",
    "df = get_game_info_df(week_num)\n",
    "df"
   ]
  },
  {
   "cell_type": "markdown",
   "metadata": {},
   "source": [
    "# Export to Gsheets"
   ]
  },
  {
   "cell_type": "code",
   "execution_count": 21,
   "metadata": {},
   "outputs": [],
   "source": [
    "import gspread"
   ]
  },
  {
   "cell_type": "markdown",
   "metadata": {},
   "source": [
    "## Test Code: Export to Google Sheets"
   ]
  },
  {
   "cell_type": "markdown",
   "metadata": {},
   "source": [
    "The following cell exports the df to a new worksheet within an existing google sheet. The creation of a new worksheet triggers the script editor within google sheets and create a corresponding google form."
   ]
  },
  {
   "cell_type": "code",
   "execution_count": 117,
   "metadata": {},
   "outputs": [
    {
     "data": {
      "text/plain": [
       "{'spreadsheetId': '1EjVIgaRpJQv8iDOxX4Sp4L32OpUXyng9NfUoKXRLF7M',\n",
       " 'updatedRange': 'week4!A1:I17',\n",
       " 'updatedRows': 17,\n",
       " 'updatedColumns': 9,\n",
       " 'updatedCells': 153}"
      ]
     },
     "execution_count": 117,
     "metadata": {},
     "output_type": "execute_result"
    }
   ],
   "source": [
    "# open connection to gsheets\n",
    "gc = gspread.oauth(\n",
    "        credentials_filename='.credentials/gspread/credentials.json',\n",
    "        authorized_user_filename='.credentials/gspread/authorized_user.json',\n",
    "    )\n",
    "sh = gc.open(\"Pickem Lines Data\")\n",
    "\n",
    "# create new worksheet for the given week\n",
    "worksheet_name = 'week' + str(week_num)\n",
    "sh.add_worksheet(worksheet_name, rows=df.shape[0], cols=df.shape[1])\n",
    "worksheet = sh.worksheet(worksheet_name)\n",
    "\n",
    "# push df to google sheet\n",
    "worksheet.update([df.columns.values.tolist()] + df.values.tolist())"
   ]
  },
  {
   "cell_type": "markdown",
   "metadata": {},
   "source": [
    "## Export to Google Sheets Functions"
   ]
  },
  {
   "cell_type": "code",
   "execution_count": 65,
   "metadata": {},
   "outputs": [],
   "source": [
    "def export_to_gsheets(df, week_num):\n",
    "    # open connection to gsheets\n",
    "    gc = gspread.oauth()\n",
    "    sh = gc.open(\"Pickem Lines Data\")\n",
    "\n",
    "    # create new worksheet for the given week\n",
    "    worksheet_name = 'week' + str(week_num)\n",
    "    sh.add_worksheet(worksheet_name, rows=df.shape[0], cols=df.shape[1])\n",
    "    worksheet = sh.worksheet(worksheet_name)\n",
    "\n",
    "    # push df to google sheet\n",
    "    worksheet.update([df.columns.values.tolist()] + df.values.tolist())"
   ]
  },
  {
   "cell_type": "code",
   "execution_count": 66,
   "metadata": {},
   "outputs": [],
   "source": [
    "def run_export_process(week_num):\n",
    "    df = get_game_info_df(week_num)\n",
    "    export_to_gsheets(df, week_num)"
   ]
  },
  {
   "cell_type": "markdown",
   "metadata": {},
   "source": [
    "## Test Code: Apps Script API"
   ]
  },
  {
   "cell_type": "markdown",
   "metadata": {},
   "source": [
    "https://medium.com/@victor.perez.berruezo/execute-google-apps-script-functions-or-sheets-macros-programmatically-using-python-apps-script-ec8343e29fcd"
   ]
  },
  {
   "cell_type": "code",
   "execution_count": 131,
   "metadata": {},
   "outputs": [],
   "source": [
    "import pickle\n",
    "import os.path\n",
    "from googleapiclient import errors\n",
    "from googleapiclient.discovery import build\n",
    "from google_auth_oauthlib.flow import InstalledAppFlow\n",
    "from google.auth.transport.requests import Request"
   ]
  },
  {
   "cell_type": "code",
   "execution_count": 132,
   "metadata": {},
   "outputs": [],
   "source": [
    "# If modifying these scopes, delete the file token.pickle.\n",
    "SCOPES = ['https://www.googleapis.com/auth/forms', \n",
    "          'https://www.googleapis.com/auth/spreadsheets']"
   ]
  },
  {
   "cell_type": "code",
   "execution_count": 141,
   "metadata": {},
   "outputs": [],
   "source": [
    "def get_scripts_service():\n",
    "    \"\"\"Calls the Apps Script API.\n",
    "    \"\"\"\n",
    "    creds = None\n",
    "    # The file token.pickle stores the user's access and refresh tokens, and is\n",
    "    # created automatically when the authorization flow completes for the first\n",
    "    # time.\n",
    "    if os.path.exists('.credentials/scripts/token.pickle'):\n",
    "        with open('.credentials/scripts/token.pickle', 'rb') as token:\n",
    "            creds = pickle.load(token)\n",
    "    # If there are no (valid) credentials available, let the user log in.\n",
    "    if not creds or not creds.valid:\n",
    "        if creds and creds.expired and creds.refresh_token:\n",
    "            creds.refresh(Request())\n",
    "        else:\n",
    "            # Credentials path from the credentials .json file \n",
    "            # from step 3 from Google Cloud Platform section\n",
    "            flow = InstalledAppFlow.from_client_secrets_file(\n",
    "                '.credentials/scripts/scripts_credentials.json', SCOPES) \n",
    "            creds = flow.run_local_server(port=0)\n",
    "        # Save the credentials for the next run\n",
    "        with open('.credentials/scripts/token.pickle', 'wb') as token:\n",
    "            pickle.dump(creds, token)\n",
    "\n",
    "    return build('script', 'v1', credentials=creds)"
   ]
  },
  {
   "cell_type": "code",
   "execution_count": 142,
   "metadata": {},
   "outputs": [],
   "source": [
    "service = get_scripts_service()"
   ]
  },
  {
   "cell_type": "code",
   "execution_count": 146,
   "metadata": {},
   "outputs": [
    {
     "data": {
      "text/plain": [
       "True"
      ]
     },
     "execution_count": 146,
     "metadata": {},
     "output_type": "execute_result"
    }
   ],
   "source": [
    "# API ID from step 3 in Google Sheets/Script section\n",
    "from dotenv import load_dotenv\n",
    "load_dotenv()"
   ]
  },
  {
   "cell_type": "code",
   "execution_count": 156,
   "metadata": {},
   "outputs": [],
   "source": [
    "API_ID = os.getenv('API_ID')"
   ]
  },
  {
   "cell_type": "code",
   "execution_count": 157,
   "metadata": {},
   "outputs": [],
   "source": [
    "# Instead macro_test select your macro function name \n",
    "# from step 5 in Sheets/Script section\n",
    "request = {\"function\": \"runProcess\"} \n",
    "\n",
    "try:\n",
    "    response = service.scripts().run(body=request, scriptId=API_ID).execute()\n",
    "except errors.HttpError as error:\n",
    "    # The API encountered a problem.\n",
    "    print(error.content)"
   ]
  },
  {
   "cell_type": "markdown",
   "metadata": {},
   "source": [
    "## Apps Script API Functions"
   ]
  },
  {
   "cell_type": "code",
   "execution_count": 158,
   "metadata": {},
   "outputs": [],
   "source": [
    "def get_scripts_service():\n",
    "    \"\"\"Calls the Apps Script API.\n",
    "    \"\"\"\n",
    "    creds = None\n",
    "    # The file token.pickle stores the user's access and refresh tokens, and is\n",
    "    # created automatically when the authorization flow completes for the first\n",
    "    # time.\n",
    "    if os.path.exists('.credentials/scripts/token.pickle'):\n",
    "        with open('.credentials/scripts/token.pickle', 'rb') as token:\n",
    "            creds = pickle.load(token)\n",
    "    # If there are no (valid) credentials available, let the user log in.\n",
    "    if not creds or not creds.valid:\n",
    "        if creds and creds.expired and creds.refresh_token:\n",
    "            creds.refresh(Request())\n",
    "        else:\n",
    "            # Credentials path from the credentials .json file \n",
    "            # from step 3 from Google Cloud Platform section\n",
    "            flow = InstalledAppFlow.from_client_secrets_file(\n",
    "                '.credentials/scripts/scripts_credentials.json', SCOPES) \n",
    "            creds = flow.run_local_server(port=0)\n",
    "        # Save the credentials for the next run\n",
    "        with open('.credentials/scripts/token.pickle', 'wb') as token:\n",
    "            pickle.dump(creds, token)\n",
    "\n",
    "    return build('script', 'v1', credentials=creds)"
   ]
  },
  {
   "cell_type": "code",
   "execution_count": 159,
   "metadata": {},
   "outputs": [],
   "source": [
    "def run_apps_script():\n",
    "    # If modifying these scopes, delete the file token.pickle.\n",
    "    SCOPES = ['https://www.googleapis.com/auth/forms', \n",
    "              'https://www.googleapis.com/auth/spreadsheets']\n",
    "    service = get_scripts_service()\n",
    "    # PickEm project Scripts App API\n",
    "    load_dotenv()\n",
    "    API_ID = os.getenv('API_ID')\n",
    "    request = {\"function\": \"runProcess\"}\n",
    "    try:\n",
    "        response = service.scripts().run(body=request, scriptId=API_ID).execute()\n",
    "    except errors.HttpError as error:\n",
    "        # The API encountered a problem.\n",
    "        print(error.content)"
   ]
  },
  {
   "cell_type": "markdown",
   "metadata": {},
   "source": [
    "## Export to GSheets, Create Form"
   ]
  },
  {
   "cell_type": "code",
   "execution_count": 160,
   "metadata": {},
   "outputs": [],
   "source": [
    "week_num = 4\n",
    "run_export_process(week_num)\n",
    "run_apps_script()"
   ]
  },
  {
   "cell_type": "code",
   "execution_count": null,
   "metadata": {},
   "outputs": [],
   "source": []
  }
 ],
 "metadata": {
  "kernelspec": {
   "display_name": "Python 3",
   "language": "python",
   "name": "python3"
  },
  "language_info": {
   "codemirror_mode": {
    "name": "ipython",
    "version": 3
   },
   "file_extension": ".py",
   "mimetype": "text/x-python",
   "name": "python",
   "nbconvert_exporter": "python",
   "pygments_lexer": "ipython3",
   "version": "3.7.7"
  }
 },
 "nbformat": 4,
 "nbformat_minor": 2
}
